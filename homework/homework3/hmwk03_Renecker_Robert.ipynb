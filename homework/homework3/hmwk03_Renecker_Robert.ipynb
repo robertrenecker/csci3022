{
 "cells": [
  {
   "cell_type": "markdown",
   "metadata": {},
   "source": [
    "<a/ id='top'></a>\n",
    "# Homework 3: Random Variables and Their Distributions\n",
    "***\n",
    "\n",
    "**Name**: Robert Renecker\n",
    "\n",
    "***\n",
    "\n",
    "This assignment is due on Moodle by **5pm on Friday October 12**. Your solutions to theoretical questions should be done in Markdown/MathJax directly below the associated question.  Your solutions to computational questions should include any specified Python code and results as well as written commentary on your conclusions.  Remember that you are encouraged to discuss the problems with your instructors and classmates, but **you must write all code and solutions on your own**. \n",
    "\n",
    "**NOTES**: \n",
    "\n",
    "- Do **NOT** load or use any Python packages that are not available in Anaconda 3.6. \n",
    "- Because you can technically evaluate notebook cells in a non-linear order, it's a good idea to do Cell $\\rightarrow$ Run All as a check before submitting your solutions.  That way if we need to run your code you will know that it will work as expected. \n",
    "- Submit only this Jupyter notebook to Moodle.  Do not compress it using tar, rar, zip, etc. \n",
    "- This should go without saying, but... For any question that asks you to calculate something, you **must show all work to receive credit**. Sparse or nonexistent work will receive sparse or nonexistent credit.\n",
    "\n",
    "---\n",
    "**Shortcuts:**  [Problem 1](#p1) | [Problem 2](#p2) | [Problem 3](#p3) | [Problem 4](#p4) | [Problem 5](#p5)\n",
    "\n",
    "---"
   ]
  },
  {
   "cell_type": "code",
   "execution_count": 31,
   "metadata": {
    "scrolled": true
   },
   "outputs": [],
   "source": [
    "import pandas as pd\n",
    "import numpy as np\n",
    "import matplotlib.pyplot as plt\n",
    "from scipy.special import comb\n",
    "%matplotlib inline"
   ]
  },
  {
   "cell_type": "markdown",
   "metadata": {},
   "source": [
    "<br>\n",
    "\n",
    "---\n",
    "<a/ id='p1'></a>\n",
    "[Back to top](#top)\n",
    "### [20 points] Problem 1\n",
    "\n",
    "Suppose you are modeling the probability of observing flood levels of various heights when there is a storm in a particular coastal city.  Let $X$ be a random variable representing the observed flood height (in feet), which must be nonnegative. There are many different choices for probability density function (pdf) for $X$.  You decide to use the following pdf for $X$:\n",
    "\n",
    "$$\n",
    "f(x) = \\begin{cases}\n",
    "         c \\ x \\ e^{\\left(-\\frac{x^2}{10}\\right)} & 0 \\leq x < \\infty \\\\\n",
    "         0                           & \\text{otherwise}\n",
    "       \\end{cases}\n",
    "$$\n",
    "where $c$ is some normalizing constant.\n",
    "\n",
    "**Part A**: Determine the value of $c$ such that $f(x)$ is a valid density function. "
   ]
  },
  {
   "cell_type": "markdown",
   "metadata": {},
   "source": [
    "$$ \\sum_{n=0}^{\\infty}xe^{-x^2/10} \\rightarrow 5*C \\rightarrow 5C = 1 \\rightarrow C = \\frac{1}{5}$$\n",
    "**The value of c s.t. f(x) is a valid density function is C=1/5**"
   ]
  },
  {
   "cell_type": "markdown",
   "metadata": {},
   "source": [
    "**Part B**: Compute the cumulative density (cdf) function $F(x)$ for $X$.  Then, conduct two sanity checks: First, what should $F(0)$ equal?  Second, what should be the limit of $F(x)$ as $x \\rightarrow \\infty$?  Be sure to **justify** these answers. Verify that $F(0)$ and $\\displaystyle \\lim_{x\\rightarrow \\infty} F(x)$ satisfy your hypotheses using cdf you derived."
   ]
  },
  {
   "cell_type": "markdown",
   "metadata": {},
   "source": [
    "** CDF is: (by plugging in x to upper limit on new pdf from 0 to x)**  \n",
    "$$F(x) = -e^{-x^2/10}+1 $$\n",
    "\n",
    "$$ \\text{sanity checks:}  \\\\\n",
    "    1. F(0) = \\sum{n=0}^{0} 1/5*x*e^{-x^2/10} \\rightarrow 0\\\\\n",
    "    2. \\lim_{x\\to \\infty} \\rightarrow \\sum_{n=0}^{\\infty} 1/5*x*e^{-x^2/10} \\rightarrow 1\n",
    "$$"
   ]
  },
  {
   "cell_type": "markdown",
   "metadata": {},
   "source": [
    "**Part C:**  Use the cdf you derived in **Part B** to calculate the median, $\\tilde{x}$, of the probability density for $X$."
   ]
  },
  {
   "cell_type": "markdown",
   "metadata": {},
   "source": [
    "**ANS: 2.63277 **\n",
    "$$ \\text{using cdf:} -e^{-x^{2}/10}+1=.5 \\rightarrow 2.63277 $$\n",
    "$$ .5 = \\sum_{n=0}^{x} 1/5*x*e^{-x^2/10} \\rightarrow -e^{-x^2/10}+1 = .5 \\rightarrow x = 2.63277 $$"
   ]
  },
  {
   "cell_type": "markdown",
   "metadata": {},
   "source": [
    "**Part D**: It is a well-known fact that if there is a storm in your coastal city, if the flood level exceeds 6 feet, then the town will become inundated with octopuses in an event known localy as **Octogeddon**. Use the cdf you computed in **Part B** to find the probability that a given storm is an Octogeddon. "
   ]
  },
  {
   "cell_type": "markdown",
   "metadata": {},
   "source": []
  },
  {
   "cell_type": "markdown",
   "metadata": {
    "collapsed": true
   },
   "source": [
    "** Probability that the storm will e a Octogeddon**   \n",
    "* Need to sum the probability that the storm surge is over 6 feet. \n",
    "\n",
    "$$ P(X>6) = 1 - P(X\\le{6) \\rightarrow 1-\\sum_{n=0}^{6} 1/5*x*e^{-x^2/10}} $$\n",
    "$$ P(X>6) = 1 - .97268... \\rightarrow \\textbf{Answer: .02732} $$\n"
   ]
  },
  {
   "cell_type": "markdown",
   "metadata": {},
   "source": [
    "**Part E:** You have been painstakingly collecting data on storms in your city, and have determined that storms occur at an average rate of 5 per year. To makes things a bit more precise, the pdf from **Part A** really describes the distribution of flood heights *given* that there is a storm, $P(X \\mid \\text{storm})$. You may assume that storms occur as independent events of one another.\n",
    "\n",
    "What is the probability of observing 3 storms in a given year, none of which are Octogeddons?\n",
    "\n",
    "That is, what is $P(3 \\text{ non-Octogeddon storms} \\cap 3 \\text{ storms})$?"
   ]
  },
  {
   "cell_type": "markdown",
   "metadata": {},
   "source": [
    "$$ \\text{P(non-Octogeddon \\and storm) 3 times: }\\\\\n",
    "            P(non-Octo|storm)^3 \\rightarrow (.97268*(5/365)^3) \\rightarrow \n",
    "            $$"
   ]
  },
  {
   "cell_type": "markdown",
   "metadata": {},
   "source": []
  },
  {
   "cell_type": "markdown",
   "metadata": {
    "collapsed": true
   },
   "source": [
    "** DO THIS **"
   ]
  },
  {
   "cell_type": "markdown",
   "metadata": {},
   "source": [
    "<br>\n",
    "\n",
    "---\n",
    "<a/ id='p2'></a>\n",
    "[Back to top](#top)\n",
    "### [20 points] Problem 2\n",
    "\n",
    "You are waiting in line at the grocery store. It is taking _forever_!  There are only two lines open; one is being tended by a cashier named [John Henry](https://en.wikipedia.org/wiki/John_Henry_(folklore)), and the other is tended by a [self check-out machine](https://theconversation.com/the-economics-of-self-service-checkouts-78593). Like all human beings when they arrive at the front of the store to check-out and encounter lines everywhere, you first experience a moment of intense panic. _Which line will be the fastest?_ you wonder, as people shuffle around you.\n",
    "\n",
    "You decide you need to model the arrival of customers at the front of each of the lines.  From your Intro to Data Science class you remember that the distribution of times _between_ independent arrivals is often modeled using an Exponential distribution.  You observe the following:\n",
    "* John's line checks-out an average of 4 customers per ten minutes,\n",
    "* the self check-out machine checks-out an average of 5 customers per ten minutes **if** the machine is working properly, \n",
    "* the self check-out machine checks-out an average of 1 customer per ten minutes if the machine is freezing up, and\n",
    "* in any given moment, the self check-out machine has a probability of 0.1 of freezing up.\n",
    "\n",
    "Answer the following questions about this scenario. **Note** that for **Parts B-D** you should clearly express the computation you're doing with math, but feel free to do any fancy function evaluations with Python. \n",
    "\n",
    "**Part A**:  Assuming the between-customer times do in fact follow exponential distributions, what distributions do you expect the **number** of customers who pass through each line in a given 10-minute interval to follow?  What are the parameter(s) of each distribution?  Note that you should consider both the case where the self check-out is working properly and when it is broken."
   ]
  },
  {
   "cell_type": "markdown",
   "metadata": {},
   "source": [
    "# Wait time\n",
    "the average time a person will have to wait in Johns line is (1/4)(10) --> 2.5 minutes  \n",
    "\n",
    "the average time a person will have to wait in self checkout (working) is (1/5)(10) --> 2 minutes\n",
    "\n",
    "the average time a person will have to wait in self checkout (not working) is (1/1)(10) --> 10 minutes\n",
    "\n",
    "# # of customers\n",
    "The number of customers who pass through each line in a given 10-minute interval will follow a Poisson distribution.  \n",
    "The parameters will be lambda = 4 in a 10 minute period.  \n",
    "\n",
    "The number of customers who pass through the self checkout in a given 10 minute interval will also follow a Poisson distribution and will have a .9 probility of there paramter lambda = 5. They will have a .1 probability of parameter lambda =  1"
   ]
  },
  {
   "cell_type": "markdown",
   "metadata": {},
   "source": [
    "**Part B**:  What is the probability that 6 customers pass through John's line in the next 10 minutes?  What about the self check-out, assuming that it is working?  What about the self check-out, assuming that it is frozen?"
   ]
  },
  {
   "cell_type": "markdown",
   "metadata": {
    "collapsed": true
   },
   "source": [
    "$$\n",
    "    \\frac{e^{-4}*4^{6} }{6!} \\rightarrow .104\n",
    "    $$"
   ]
  },
  {
   "cell_type": "markdown",
   "metadata": {
    "collapsed": true
   },
   "source": [
    "Working self checkout:  \n",
    "$$\n",
    "\\frac{e^{-5}*5^{6} }{6!}  \\rightarrow  .14622 \n",
    "$$"
   ]
  },
  {
   "cell_type": "markdown",
   "metadata": {
    "collapsed": true
   },
   "source": [
    "Not-working self checkout:  \n",
    "    $$\n",
    "    \\frac{e^{-1}*1^{6} }{6!}  \\rightarrow  .00051\n",
    "    $$"
   ]
  },
  {
   "cell_type": "markdown",
   "metadata": {},
   "source": [
    "**Part C:**  Use your answer to **Part B** and the Law of Total Probability to calculate the probability that the self check-out tends 6 customers is the next 10 minutes."
   ]
  },
  {
   "cell_type": "markdown",
   "metadata": {},
   "source": [
    "**ANS: **  "
   ]
  },
  {
   "cell_type": "markdown",
   "metadata": {
    "collapsed": true
   },
   "source": [
    ".00051 + .14622 = **.14673**"
   ]
  },
  {
   "cell_type": "markdown",
   "metadata": {},
   "source": [
    "**Part D**:  S'pose John is working a 5-hour shift from 4-9 PM after school. He gets no breaks, because the year is 1870 and worker's rights is not yet a thing.  Calculate **exactly** (aside from rounding) the probability that he serves 100 or more customers during his shift.  (Assume we can safely scale our data up to a 5-hour interval.)"
   ]
  },
  {
   "cell_type": "markdown",
   "metadata": {},
   "source": []
  },
  {
   "cell_type": "markdown",
   "metadata": {
    "collapsed": true
   },
   "source": [
    "Johns poisson distribution for 5 hours (4-9PM) shift would have lambda = 4 per 10 mins * 6 (6 10 mins per hour) * 5 ( 5 total hours) ==> 120 customers per 5 hours rate.\n",
    "\n",
    "**ANS**\n",
    "$$ 1-\\int _0^{100}\\:\\frac{\\left(e^{-120}120^x\\right)}{x!} \\rightarrow .968835 $$"
   ]
  },
  {
   "cell_type": "markdown",
   "metadata": {},
   "source": [
    "**Part E**:  Write a function `checkout_count` to simulate the number of customers served by the self check-out machine in a 5-hour shift. At the very least, your function should take as input the working and broken customer arrival rate parameters, and the probability that the machine is working properly. Your simulation should model the arrival of each new customer, and sample whether or not the machine is working properly for each new customer. Then, your function should simulate customer arrival times at the front of the line by sampling between-customer times from $Exp(\\lambda)$ via Numpy's [random.exponential](https://docs.scipy.org/doc/numpy-1.13.0/reference/generated/numpy.random.exponential.html) function, where the argument $\\lambda$ will depend on the state of the machine (working or broken). Your function should return the number of customer arrivals in a 5-hour shift. Use at least 5000 simulations.\n",
    "\n",
    "Use this function to estimate the probability of the self check-out machine serves 100 or more customers in a 5-hour shift, and report your result.\n",
    "\n",
    "Finally, use **this same function**, to verify your answer to **Part D**.\n",
    "\n",
    "**Caution!**  Be aware that in some Numpy or Scipy functions for distribution and/or random variables, the conventions for the parameter arguments may differ from those used in class."
   ]
  },
  {
   "cell_type": "code",
   "execution_count": 19,
   "metadata": {},
   "outputs": [],
   "source": [
    "def checkout_count(time_len, rate_work, rate_broken, p):\n",
    "    # Magic (It actually could be because I have no idea how it works)\n",
    "    #rate work = 1/rate_work.\n",
    "    #rate_broken = 1/rate_broken\n",
    "    #probability it's working = p\n",
    "    probability_choice = [rate_work for i in range(0,int(p*10)) ];\n",
    "    prob_compliment = [rate_broken for i in range(0, int(10-p*10))];\n",
    "    prob = probability_choice + prob_compliment;\n",
    "    total_cust = [];\n",
    "    for i in range(0, 5000):\n",
    "        cust_served = 0;\n",
    "        while time_len < 300:\n",
    "            #choose the machine for this customer\n",
    "            machineRate = np.random.choice(prob,1)[0]/10;\n",
    "            temp = np.random.exponential(1/machineRate);\n",
    "            time_len += temp;\n",
    "            cust_served += 1;    \n",
    "        total_cust.append(cust_served);\n",
    "        time_len = 0;\n",
    "    custMean = np.sum(total_cust)/5000;\n",
    "    \n",
    "    return custMean;"
   ]
  },
  {
   "cell_type": "code",
   "execution_count": 20,
   "metadata": {},
   "outputs": [
    {
     "name": "stdout",
     "output_type": "stream",
     "text": [
      "108.474\n"
     ]
    }
   ],
   "source": [
    "total_customers = checkout_count(0,5,1,.9);\n",
    "print(total_customers);"
   ]
  },
  {
   "cell_type": "code",
   "execution_count": 21,
   "metadata": {},
   "outputs": [
    {
     "name": "stdout",
     "output_type": "stream",
     "text": [
      "121.2262\n"
     ]
    }
   ],
   "source": [
    "#verify part D\n",
    "total_customers = checkout_count(0,4,0,1);\n",
    "print(total_customers);"
   ]
  },
  {
   "cell_type": "markdown",
   "metadata": {},
   "source": [
    "**Part F:** Comment on the results you found in **Part E** for the probabilities that John and the self check-out machine will serve 100 or more customers in a 5-hour block. Which seems like a better investment for the grocery store?"
   ]
  },
  {
   "cell_type": "markdown",
   "metadata": {},
   "source": [
    "** NEED THIS DONE ** "
   ]
  },
  {
   "cell_type": "markdown",
   "metadata": {
    "collapsed": true
   },
   "source": [
    "### [20 points] Problem 3 \n",
    "***\n",
    "\n",
    "Let $X =$ the leading digit of a randomly selected number from a large accounting\n",
    "ledger. For example, if we randomly draw the number \\$20,695, then $X = 2.$\n",
    "People who make up numbers to commit accounting fraud tend to give $X$ a\n",
    "(discrete) uniform distribution, i.e., $P(X = x) = \\frac{1}{9}$, for $x \\in \\{1, ..., 9\\}$. However,\n",
    "there is empirical evidence that suggests that _naturally occurring_ numbers (e.g.,\n",
    "numbers in a non-fraudulent accounting ledgers) have leading digits that do not\n",
    "follow a uniform distribution. Instead, they follow a distribution defined by the following probability mass function:\n",
    "\n",
    "$$\n",
    "f(x) = \\log_{10}\\left( \\frac{x+1}{x} \\right) \\quad \\textrm{for } x = 1, 2, \\ldots, 9\n",
    "$$"
   ]
  },
  {
   "cell_type": "markdown",
   "metadata": {},
   "source": [
    "**Part A**: Write a function pmf_natural that implements $f(x)$. Your function should take in an integer $x$ and return $f(x) = P(X = x)$.  Use your function to argue that $f(x)$ is a well-defined probability mass function. "
   ]
  },
  {
   "cell_type": "code",
   "execution_count": 22,
   "metadata": {},
   "outputs": [],
   "source": [
    "def pmf_natural(x):\n",
    "    #something\n",
    "    temp =  np.log10(((x+1)/x))\n",
    "    return temp;\n",
    "natural_dist = [pmf_natural(i) for i in range(1,10)]"
   ]
  },
  {
   "cell_type": "markdown",
   "metadata": {},
   "source": [
    "**Part B**: Use the function you wrote above to make two bar plots describing the pmf of the naturally occurring numbers as well as the discrete uniform distribution.  Make sure that the $x$- and $y$-limits on your plots are the same so that the two distributions are easy to compare. Please make one plot directly above the other. "
   ]
  },
  {
   "cell_type": "code",
   "execution_count": 23,
   "metadata": {},
   "outputs": [
    {
     "data": {
      "image/png": "[encoded data removed]",
      "text/plain": [
       "<Figure size 432x288 with 2 Axes>"
      ]
     },
     "metadata": {},
     "output_type": "display_data"
    }
   ],
   "source": [
    "fig, ax = plt.subplots(2,1, sharey=True);\n",
    "numbs = [1,2,3,4,5,6,7,8,9];\n",
    "ax[0].bar(numbs, natural_dist,);\n",
    "ax[1].bar(numbs, [(1/9) for i in range(1,10)])\n",
    "\n",
    "plt.show();"
   ]
  },
  {
   "cell_type": "markdown",
   "metadata": {},
   "source": [
    "**Part C**: Write a function cdf_natural that implements the cumulative distribution function $F(y)$ for $X$ and use it to compute the probability that the leading digit in a number is at most 4 and at most 5. "
   ]
  },
  {
   "cell_type": "code",
   "execution_count": 24,
   "metadata": {},
   "outputs": [
    {
     "name": "stdout",
     "output_type": "stream",
     "text": [
      "The cumulative probability that the number will be at most 4 is: 0.698970 \n",
      "The cumulative probability that the number will be at most 5 is: 0.778151\n"
     ]
    }
   ],
   "source": [
    "def cdf_natural(y):\n",
    "    # something\n",
    "    cdf = 0;\n",
    "    for i in range(1,y+1):\n",
    "        cdf += pmf_natural(i);\n",
    "    return cdf\n",
    "print(\"The cumulative probability that the number will be at most 4 is: %f \" % cdf_natural(4));\n",
    "print(\"The cumulative probability that the number will be at most 5 is: %f\" % cdf_natural(5));"
   ]
  },
  {
   "cell_type": "markdown",
   "metadata": {},
   "source": [
    "**Part D**: The data in tax_data.txt contains the taxable income for individuals in 1978. Use Pandas and the information from **Parts A-D** to determine whether or not the dataset is likely fraudulent.  In addition to code and any graphical summaries, make sure to clearly justify your conclusion in words. "
   ]
  },
  {
   "cell_type": "code",
   "execution_count": 25,
   "metadata": {},
   "outputs": [
    {
     "data": {
      "image/png": "[encoded data removed]",
      "text/plain": [
       "<Figure size 432x288 with 3 Axes>"
      ]
     },
     "metadata": {},
     "output_type": "display_data"
    },
    {
     "name": "stdout",
     "output_type": "stream",
     "text": [
      "Based on our three graphs, the first one being the natural logerithmic distribution which follows natural occurance of leading digits...\n",
      "The second graph being the pmf distribution of falsified numbers by people trying to commit fraud.\n",
      "Based on looking at our third graph which followed the distribution of our tax data from 1978, we should assume that it closely follows the natural number distribution of graph 1!.\n",
      "\n",
      "Thus, our final assumption should be that the data we analyzed is of natural occuring numbers, not fraudulent ones. \n"
     ]
    }
   ],
   "source": [
    "def mapFunc(x):\n",
    "    temp = str(x);\n",
    "    return int(temp[0]);\n",
    "dataframe = pd.read_table(\"tax_data.txt\");\n",
    "dataframe = pd.Series(dataframe.iloc[:,0]);\n",
    "\n",
    "dataframe = dataframe.apply(mapFunc);\n",
    "temp = dataframe.nonzero();\n",
    "dataframe = dataframe.iloc[temp[0]];\n",
    "#we have our total count of each unique value [i.e., {1,2,..,9}]\n",
    "getCounts = dataframe.value_counts();\n",
    "#lets normalize them over total # of digits\n",
    "getNormCounts = [x/len(dataframe) for x in getCounts]\n",
    "\n",
    "#plot the normalized probability mass of the tax data versus the two earlier pmf's. \n",
    "\n",
    "fig, ax = plt.subplots(3,1, sharey=True);\n",
    "numbs = [1,2,3,4,5,6,7,8,9];\n",
    "ax[0].bar(numbs, natural_dist,);\n",
    "ax[1].bar(numbs, [(1/9) for i in range(1,10)])\n",
    "ax[2].bar(numbs, getNormCounts);\n",
    "plt.show();\n",
    "\n",
    "\n",
    "print(\"Based on our three graphs, the first one being the natural logerithmic distribution which follows natural occurance of leading digits...\")\n",
    "print(\"The second graph being the pmf distribution of falsified numbers by people trying to commit fraud.\");\n",
    "print(\"Based on looking at our third graph which followed the distribution of our tax data from 1978, we should assume that it closely follows the natural number distribution of graph 1!.\");\n",
    "\n",
    "print()\n",
    "print(\"Thus, our final assumption should be that the data we analyzed is of natural occuring numbers, not fraudulent ones. \")"
   ]
  },
  {
   "cell_type": "markdown",
   "metadata": {},
   "source": []
  },
  {
   "cell_type": "markdown",
   "metadata": {},
   "source": [
    "### [20 points] Problem 4\n",
    "***\n",
    "\n",
    "Well. They're back at it. Tony and Dan are honing their lightsaber skills, and this time they've got a _new_ tournament format. (They wouldn't have had to switch formats, but you figured out all the probabilities for their previous tournament format two weeks ago, so this is on you.)\n",
    "\n",
    "The new format is a _Best-of-9 Series_ of individual duels. The first professor to win 5 duels is declared the winner. Each duel can be considered to be independent of all previous duels. Moreover, a rigorous statistical analysis of Tony's and Dan's strengths, weaknesses, and handwriting, has revealed that Tony has an edge: the probability that Tony wins any one duel against Dan is given by $p=0.56$."
   ]
  },
  {
   "cell_type": "markdown",
   "metadata": {},
   "source": [
    "**Part A**: What is the probability that Tony wins the 9-duel series on the 8th duel? "
   ]
  },
  {
   "cell_type": "markdown",
   "metadata": {},
   "source": []
  },
  {
   "cell_type": "markdown",
   "metadata": {
    "collapsed": true
   },
   "source": [
    "$${7 \\choose 4}*(.56)^{5}*(1-.56)^3 \\rightarrow .16419 $$"
   ]
  },
  {
   "cell_type": "markdown",
   "metadata": {},
   "source": [
    "**Part B**: What is the probability that Tony wins the 9-duel series in _any_ valid number of duels? "
   ]
  },
  {
   "cell_type": "markdown",
   "metadata": {},
   "source": []
  },
  {
   "cell_type": "markdown",
   "metadata": {
    "collapsed": true
   },
   "source": [
    "* Sum up all events of tony winning *  \n",
    "$$(.56)^{5} + {5 \\choose 4}*(.56)^5*(.44) + {6 \\choose 4} * (.56)^5 * (.44)^2 + {7 \\choose 4}*(.56)^5*(.44)^3 + {8 \\choose 4}(.56)^5*(.44)^4 \\rightarrow .6448577 $$\n",
    "Chat Conversation End\n",
    "Type a message...\n",
    "\n"
   ]
  },
  {
   "cell_type": "markdown",
   "metadata": {},
   "source": [
    "**Part C**: The winner of the tournament will take home \\$10,000 to use for a giant home aquarium for Stella the Octopus. Because the stakes are so high, Tony has decided to hire a famous Jedi consultant, Darth Ketelsen, to help him prepare for each duel. \n",
    "\n",
    "With Ketelsen's help, Tony's probability of winning any given match increases to $p = 0.7$. Ketelsen charges a fee of \\$90 per game, but as a testament to her confidence in her abilities, only charges Tony the \\$90 for games that he wins and _only if Tony wins the whole tournament_.  So, if Tony competes in a 9-duel tournament and wins, he will take home \\$10,000 _minus_ \\$450 for Darth Ketelsen's fees, for a total payout of \\$9,550.  What is the expected payout for a 9-duel series?   "
   ]
  },
  {
   "cell_type": "markdown",
   "metadata": {},
   "source": [
    "** FUTURE ROB YOU PRACTICALLY ALREADY DID THIS AND KNOW HOW TO DO IT JUST DO IT AND DON'T FORGET I SWEAR TO GOD IF YOU FORGET TO DO THIS !!!! ** "
   ]
  },
  {
   "cell_type": "markdown",
   "metadata": {
    "collapsed": true
   },
   "source": []
  },
  {
   "cell_type": "markdown",
   "metadata": {},
   "source": [
    "**Part D**: This year the Jedi Knight Lightsaber-on-Lightsaber Association (the JKLOL Assoc) is implementing an experimental rule: Since Tony is rumored to be the stronger duelist, he gets to _choose_ the length of the championship tournament! Specifically, he can choose the series to be any odd length, from $N=3, 5, 7 \\dots, 99$ duels long. Assuming that Tony continues to use the service of Darth Ketelsen, and considering the fact that Tony has a better-than-even chance of winning each duel, explain the trade-offs between choosing a short series vs. a long series in terms of Expected Payout. "
   ]
  },
  {
   "cell_type": "markdown",
   "metadata": {},
   "source": [
    "**ANS: The fact that he has a higher probability of winning means that over time his partner will reach a probability of 0 before Tony does. This in turn means that having a longer tournament ensures a higher probability of Tony winning the entire tournament but it also means that he is losing out on more money as even though he will have a higher liklihood of winning, he will lose an extra $180 for every 2 games he has to win by extending the tournament to the next odd number. **"
   ]
  },
  {
   "cell_type": "markdown",
   "metadata": {},
   "source": [
    "**Part E**: Write a function `optimal_series` that takes in $p$, the probability that Tony wins an individual duel, then computes the Expected Payout for each series of length $N=3, 5, 7, \\ldots 99$ and returns the optimal series length.  In addition to returning the optimal series length, your function should also produce a plot of Expected Payout vs Series Length. You may write any additional helper functions that you like, but you should not change the API for the function optimal_series. "
   ]
  },
  {
   "cell_type": "code",
   "execution_count": 133,
   "metadata": {},
   "outputs": [],
   "source": [
    "def optimal_series(p):\n",
    "    # something\n",
    "    expected_payouts = [];\n",
    "    series_count = [i for i in range(3,100, 2)];\n",
    "    tony_win_p = p;\n",
    "    tony_lose_p = 1-p;\n",
    "\n",
    "    #for every series {3,5,...,99}\n",
    "    for x in series_count:\n",
    "        take_away = 0;\n",
    "        final_value = 10000;\n",
    "        has_to_win = int(np.floor(x/2)+1);\n",
    "        series_value = (tony_win_p)**(has_to_win)*(has_to_win*90);\n",
    "        #for all (tony_win_prob)^(the # games it takes tony to win) * (lost_probability)^(all games oponnent can win)\n",
    "        \n",
    "        for i in range(1,has_to_win):\n",
    "            #comb is correct\n",
    "            combination_count = comb(i+has_to_win-1, has_to_win-1 )\n",
    "            #\n",
    "            series_value += (has_to_win*90)*combination_count* ((tony_win_p)**(has_to_win)) * ((tony_lose_p)**(i));\n",
    "            #print(\"series %d \" %x, series_value, combination_count, tony_win_p, has_to_win, tony_lose_p);\n",
    "            \n",
    "    \n",
    "        \n",
    "    \n",
    "        final_value -= series_value/has_to_win;\n",
    "        #print(\"expected payout of series: %d \" %x , final_value);\n",
    "        \n",
    "        expected_payouts.append(final_value);\n",
    " \n",
    "    \n",
    "   \n",
    "    \n",
    "    print(expected_payouts);\n",
    "    #Expected payout versus series length x { 3, ..., 99}\n",
    "    #y is [0,10000]\n",
    "    print(max(expected_payouts));\n",
    "    \n",
    "    plt.scatter(series_count, expected_payouts);\n",
    "    plt.show();\n",
    "    \n",
    "                \n",
    "                \n",
    "            \n",
    "     \n",
    "    optimal_series_length = 1\n",
    "    return optimal_series_length;"
   ]
  },
  {
   "cell_type": "code",
   "execution_count": 134,
   "metadata": {},
   "outputs": [
    {
     "name": "stdout",
     "output_type": "stream",
     "text": [
      "[9929.44, 9924.6772, 9921.34324, 9918.8927794, 9917.0402311864, 9915.613769061929, 9914.50112860484, 9913.624924244883, 9912.929802119317, 9912.375094663115, 9911.930320139143, 9911.572276647345, 9911.2830876732, 9911.048844604144, 9910.85863923207, 9910.703859610545, 9910.577668695583, 9910.474612781698, 9910.39032389213, 9910.321291291575, 9910.264684559119, 9910.218215577841, 9910.18003019757, 9910.148622722301, 9910.122768088657, 9910.101467848172, 9910.083906983238, 9910.069419269666, 9910.057459412326, 9910.047580570163, 9910.039416185124, 9910.032665259245, 9910.02708040238, 9910.022458112022, 9910.018630855608, 9910.015460611543, 9910.012833593082, 9910.010655933043, 9910.008850150334, 9910.007352253577, 9910.006109364607, 9910.005077766764, 9910.004221300647, 9910.00351004447, 9910.002919227669, 9910.00242833597, 9910.002020373637, 9910.001681254947, 9910.001399301978]\n",
      "9929.44\n"
     ]
    },
    {
     "data": {
      "image/png": "[encoded data removed]",
      "text/plain": [
       "<Figure size 432x288 with 1 Axes>"
      ]
     },
     "metadata": {},
     "output_type": "display_data"
    }
   ],
   "source": [
    "optimal_series(.7);"
   ]
  },
  {
   "cell_type": "code",
   "execution_count": null,
   "metadata": {},
   "outputs": [],
   "source": []
  },
  {
   "cell_type": "markdown",
   "metadata": {},
   "source": [
    "### [20 points] Problem 5\n",
    "\n",
    "Cement your superior stochastic simulation skills by solving some straightforward simulation scenarios."
   ]
  },
  {
   "cell_type": "markdown",
   "metadata": {},
   "source": [
    "**Part A**: Using a stochastic simulation, compute the probability that, from a shuffled standard deck of cards, two cards are sequentially chosen which have either identical value or _adjacent_ value. You may let Aces be high or low, but not both."
   ]
  },
  {
   "cell_type": "code",
   "execution_count": null,
   "metadata": {},
   "outputs": [],
   "source": [
    "#ace is value 14 (high)\n",
    "#1000 simulations\n",
    "values = [];\n",
    "for s in range(10000):\n",
    "    \n",
    "    a = [i for i in range(1,14) for j in range(4)]\n",
    "\n",
    "    temp = np.random.choice(a);\n",
    "    a.remove(temp);\n",
    "    temp2 = np.random.choice(a);\n",
    "    values.append(np.abs(temp-temp2));\n",
    "\n",
    "print(\"The probability that, from a shuffled standard deck of cards, two cards are sequentially chosen which have either\")\n",
    "print(\"identical value or adjacent value is %f\" % ((values.count(1)+values.count(0)) / 10000 ))"
   ]
  },
  {
   "cell_type": "markdown",
   "metadata": {},
   "source": [
    "**Part B**: Using a stochastic simulation, compute the probability that, from a shuffled standard deck of cards, three cards are sequentially chosen which form a run, e.g. 4-5-6 or 9-10-J. (The cards do not need to be drawn in order, like 4,5,6... any order is fine, like 6,4,5.) You may let Aces be high or low, but not both."
   ]
  },
  {
   "cell_type": "code",
   "execution_count": null,
   "metadata": {},
   "outputs": [],
   "source": [
    "#Cards form a run\n",
    "#1000 simulations\n",
    "values = [];\n",
    "for s in range(10000):\n",
    "    test1 = [3,4,5];\n",
    "    test2 = [5,6,7];\n",
    "    a = [i for i in range(1,14) for j in range(4)]\n",
    "\n",
    "    temp = np.random.choice(a);\n",
    "    a.remove(temp);\n",
    "    temp2 = np.random.choice(a);\n",
    "    a.remove(temp2);\n",
    "    temp3 = np.random.choice(a);\n",
    "    \n",
    "    tempL = [temp, temp2, temp3];\n",
    "    tempL.sort();\n",
    "\n",
    "    if (tempL[2]-tempL[1] == 1 and tempL[1]-tempL[0] == 1):\n",
    "        values.append(tempL);\n",
    "\n",
    "        \n",
    "prob = len(values)/10000;\n",
    "print(\"probability that the cards form a run is %f\" % prob);"
   ]
  },
  {
   "cell_type": "markdown",
   "metadata": {},
   "source": [
    "**Part C**: When flipping over cards, sequentially, from a randomly shuffled deck, what is the probability that the third Ace will be revealed between flips 16 and 24, inclusively?"
   ]
  },
  {
   "cell_type": "code",
   "execution_count": null,
   "metadata": {},
   "outputs": [],
   "source": [
    "** DO THIS ** "
   ]
  },
  {
   "cell_type": "markdown",
   "metadata": {},
   "source": [
    "**Part D**: Using a stochastic simulation, determine the probability mass function for: the probability that the first card drawn is an $X$, given that the card was part of a 3-card sequence (as in Part B). Express your PMF as a bar graph. Explain why it has the shape that it has."
   ]
  },
  {
   "cell_type": "code",
   "execution_count": null,
   "metadata": {},
   "outputs": [],
   "source": [
    "** DO THESE **"
   ]
  },
  {
   "cell_type": "code",
   "execution_count": null,
   "metadata": {},
   "outputs": [],
   "source": []
  },
  {
   "cell_type": "code",
   "execution_count": null,
   "metadata": {},
   "outputs": [],
   "source": []
  },
  {
   "cell_type": "code",
   "execution_count": null,
   "metadata": {},
   "outputs": [],
   "source": []
  }
 ],
 "metadata": {
  "kernelspec": {
   "display_name": "Python 3",
   "language": "python",
   "name": "python3"
  },
  "language_info": {
   "codemirror_mode": {
    "name": "ipython",
    "version": 3
   },
   "file_extension": ".py",
   "mimetype": "text/x-python",
   "name": "python",
   "nbconvert_exporter": "python",
   "pygments_lexer": "ipython3",
   "version": "3.6.5"
  }
 },
 "nbformat": 4,
 "nbformat_minor": 2
}
